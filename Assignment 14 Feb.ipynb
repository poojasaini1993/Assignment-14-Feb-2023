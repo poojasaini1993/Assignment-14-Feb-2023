{
 "cells": [
  {
   "cell_type": "code",
   "execution_count": 1,
   "id": "9769ad70-2d41-40ac-9a22-c1f5e1f7458c",
   "metadata": {},
   "outputs": [],
   "source": [
    "## Ques 1:- What is multithreading in python? Why is it used? Name the module used to handle threads in python\n",
    "\n",
    "## Multithreading runs multiple threads simultaneously within a single process.\n",
    "## In Multithreading, we can ran multiple thread or programme at a same time in a single cord, it means we can maximize utilization of CPU with multitasking. \n",
    "## Threading Module is used to handle threads in python."
   ]
  },
  {
   "cell_type": "code",
   "execution_count": 2,
   "id": "e9bc875f-d96d-4955-a338-93ebf31d6aa3",
   "metadata": {},
   "outputs": [],
   "source": [
    "## Why threading module used?\n",
    "## Threading module provides much more powerful, high-level support for threads.\n",
    "## threading.activeCount() − Returns the number of thread objects that are active.\n",
    "## threading.currentThread() − Returns the number of thread objects in the caller's thread control.\n",
    "## threading.enumerate() − Returns a list of all thread objects that are currently active."
   ]
  },
  {
   "cell_type": "code",
   "execution_count": 3,
   "id": "0a56b9d7-1f9d-40b2-92f5-549504bf4d10",
   "metadata": {},
   "outputs": [],
   "source": [
    "## Ans 3\n",
    "## run()  − The run() method is the entry point for a thread.\n",
    "## start()  − The start() method starts a thread by calling the run method.\n",
    "## join([time])  − The join() waits for threads to terminate.\n",
    "## isAlive()  − The isAlive() method checks whether a thread is still executing."
   ]
  },
  {
   "cell_type": "code",
   "execution_count": 4,
   "id": "0788a342-5872-45d9-8f4d-de74eba5e361",
   "metadata": {},
   "outputs": [],
   "source": [
    "## Ans 5\n",
    "## Advantage of multithreading:- maximize utilization of CPU with multitasking, improve server response,provide more concurrency.\n",
    "## Disadvantage:- difficulity of debugging, difficultiy of testing, difficulty to open files if different thread use different data structure."
   ]
  },
  {
   "cell_type": "code",
   "execution_count": 5,
   "id": "5fe129f1-b5d7-4ae1-8c8b-84696e7cfba7",
   "metadata": {},
   "outputs": [],
   "source": [
    "## Ans 6\n",
    "## Race Condition:- when two thread or more use same varible or object concurrently and atleast one does  updates.\n",
    "## dead lock:-Two threads hold locks on different resources, each waiting indefinitely for the other to release its lock"
   ]
  },
  {
   "cell_type": "code",
   "execution_count": 6,
   "id": "fcd8d5bb-e4f6-43d2-90ac-46e68eb50979",
   "metadata": {},
   "outputs": [],
   "source": [
    "## 4. Write a python program to create two threads. Thread one must print the list of squares and thread\n",
    "## two must print the list of cubes."
   ]
  },
  {
   "cell_type": "code",
   "execution_count": 6,
   "id": "7aaa6a59-115b-4585-b1f5-0ed8714608c5",
   "metadata": {},
   "outputs": [],
   "source": [
    "import threading\n",
    "def square():\n",
    "    for i in range(10):\n",
    "        print(i**2)\n",
    "    \n",
    "          \n",
    "def cube():\n",
    "    for i in range(10):\n",
    "        print(i**3)"
   ]
  },
  {
   "cell_type": "code",
   "execution_count": 7,
   "id": "353ce61f-587f-49f2-a2b0-5daef6ec3176",
   "metadata": {},
   "outputs": [
    {
     "name": "stdout",
     "output_type": "stream",
     "text": [
      "0\n",
      "1\n",
      "4\n",
      "9\n",
      "16\n",
      "25\n",
      "36\n",
      "49\n",
      "64\n",
      "81\n",
      "0\n",
      "1\n",
      "8\n",
      "27\n",
      "64\n",
      "125\n",
      "216\n",
      "343\n",
      "512\n",
      "729\n"
     ]
    }
   ],
   "source": [
    "if __name__=='__main__':\n",
    "    t1=threading.Thread(target=square)\n",
    "    t2=threading.Thread(target=cube)\n",
    "    \n",
    "    t1.start()\n",
    "    t2.start()\n",
    "    \n",
    "    t1.join()\n",
    "    t2.join()\n",
    "    \n",
    "    \n",
    "    "
   ]
  },
  {
   "cell_type": "code",
   "execution_count": 61,
   "id": "5cc05d03-edbf-42a0-80f3-1c1f366d7861",
   "metadata": {},
   "outputs": [
    {
     "ename": "RuntimeError",
     "evalue": "threads can only be started once",
     "output_type": "error",
     "traceback": [
      "\u001b[0;31m---------------------------------------------------------------------------\u001b[0m",
      "\u001b[0;31mRuntimeError\u001b[0m                              Traceback (most recent call last)",
      "Cell \u001b[0;32mIn[61], line 2\u001b[0m\n\u001b[1;32m      1\u001b[0m \u001b[38;5;28;01mfor\u001b[39;00m t \u001b[38;5;129;01min\u001b[39;00m thread:\n\u001b[0;32m----> 2\u001b[0m     \u001b[43mt\u001b[49m\u001b[38;5;241;43m.\u001b[39;49m\u001b[43mstart\u001b[49m\u001b[43m(\u001b[49m\u001b[43m)\u001b[49m\n",
      "File \u001b[0;32m/opt/conda/lib/python3.10/threading.py:930\u001b[0m, in \u001b[0;36mThread.start\u001b[0;34m(self)\u001b[0m\n\u001b[1;32m    927\u001b[0m     \u001b[38;5;28;01mraise\u001b[39;00m \u001b[38;5;167;01mRuntimeError\u001b[39;00m(\u001b[38;5;124m\"\u001b[39m\u001b[38;5;124mthread.__init__() not called\u001b[39m\u001b[38;5;124m\"\u001b[39m)\n\u001b[1;32m    929\u001b[0m \u001b[38;5;28;01mif\u001b[39;00m \u001b[38;5;28mself\u001b[39m\u001b[38;5;241m.\u001b[39m_started\u001b[38;5;241m.\u001b[39mis_set():\n\u001b[0;32m--> 930\u001b[0m     \u001b[38;5;28;01mraise\u001b[39;00m \u001b[38;5;167;01mRuntimeError\u001b[39;00m(\u001b[38;5;124m\"\u001b[39m\u001b[38;5;124mthreads can only be started once\u001b[39m\u001b[38;5;124m\"\u001b[39m)\n\u001b[1;32m    932\u001b[0m \u001b[38;5;28;01mwith\u001b[39;00m _active_limbo_lock:\n\u001b[1;32m    933\u001b[0m     _limbo[\u001b[38;5;28mself\u001b[39m] \u001b[38;5;241m=\u001b[39m \u001b[38;5;28mself\u001b[39m\n",
      "\u001b[0;31mRuntimeError\u001b[0m: threads can only be started once"
     ]
    }
   ],
   "source": []
  },
  {
   "cell_type": "code",
   "execution_count": null,
   "id": "25010b56-0d80-42b3-9d56-cf794c698cd3",
   "metadata": {},
   "outputs": [],
   "source": []
  }
 ],
 "metadata": {
  "kernelspec": {
   "display_name": "Python 3 (ipykernel)",
   "language": "python",
   "name": "python3"
  },
  "language_info": {
   "codemirror_mode": {
    "name": "ipython",
    "version": 3
   },
   "file_extension": ".py",
   "mimetype": "text/x-python",
   "name": "python",
   "nbconvert_exporter": "python",
   "pygments_lexer": "ipython3",
   "version": "3.10.8"
  }
 },
 "nbformat": 4,
 "nbformat_minor": 5
}
